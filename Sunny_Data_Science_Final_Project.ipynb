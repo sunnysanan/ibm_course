{
 "cells": [
  {
   "cell_type": "markdown",
   "id": "297f7570",
   "metadata": {},
   "source": [
    "# <center>Rain Prediction In Australia (Classification Exercise Using Python)<center>"
   ]
  },
  {
   "cell_type": "markdown",
   "id": "ed91018f",
   "metadata": {},
   "source": [
    "<center>As part of my IBM Data Science Professional Certificate, I have been tasked with producing a fully functional Jupyter notebook showcasing some examples of machine learning (ML) models I have come across on the course. <br>    \n",
    "    \n",
    "This exercise will be focusing on a raw dataset extracted from the Australian Government's Bureau of Meteorology that will require me to clean / pre-process the data, implement different types of ML models to the data and finally apply statistical tests to evaluate how effective each of the model is. <center>"
   ]
  },
  {
   "cell_type": "markdown",
   "id": "ddade90f",
   "metadata": {},
   "source": [
    "## <u>Importing & Pre-Processing Data"
   ]
  },
  {
   "cell_type": "code",
   "execution_count": 1,
   "id": "fc9948e8",
   "metadata": {},
   "outputs": [],
   "source": [
    "import pandas as pd\n",
    "import seaborn as sns\n",
    "import matplotlib.pyplot as plt\n",
    "import numpy as np\n",
    "from sklearn.model_selection import train_test_split\n",
    "from sklearn import linear_model\n",
    "from sklearn.metrics import r2_score\n",
    "from sklearn.linear_model import LogisticRegression\n",
    "from sklearn.metrics import log_loss\n",
    "from sklearn import preprocessing\n",
    "from sklearn.neighbors import KNeighborsClassifier\n",
    "import sklearn.metrics as metrics\n",
    "from sklearn.metrics import jaccard_score\n",
    "from sklearn.metrics import f1_score\n",
    "import sklearn.tree as tree\n",
    "from sklearn.metrics import confusion_matrix\n",
    "import itertools\n",
    "from sklearn.tree import DecisionTreeClassifier\n",
    "from tabulate import tabulate"
   ]
  },
  {
   "cell_type": "code",
   "execution_count": 2,
   "id": "abe4dc1d",
   "metadata": {},
   "outputs": [
    {
     "data": {
      "text/plain": [
       "(3271, 22)"
      ]
     },
     "execution_count": 2,
     "metadata": {},
     "output_type": "execute_result"
    }
   ],
   "source": [
    "df = pd.read_csv('https://cf-courses-data.s3.us.cloud-object-storage.appdomain.cloud/IBMDeveloperSkillsNetwork-ML0101EN-SkillUp/labs/ML-FinalAssignment/Weather_Data.csv')\n",
    "df.shape"
   ]
  },
  {
   "cell_type": "markdown",
   "id": "fef3be83",
   "metadata": {},
   "source": [
    "There are 3,271 rows in our dataset. Let's look at the first 10 rows only"
   ]
  },
  {
   "cell_type": "code",
   "execution_count": 3,
   "id": "89f9895d",
   "metadata": {},
   "outputs": [
    {
     "data": {
      "text/html": [
       "<div>\n",
       "<style scoped>\n",
       "    .dataframe tbody tr th:only-of-type {\n",
       "        vertical-align: middle;\n",
       "    }\n",
       "\n",
       "    .dataframe tbody tr th {\n",
       "        vertical-align: top;\n",
       "    }\n",
       "\n",
       "    .dataframe thead th {\n",
       "        text-align: right;\n",
       "    }\n",
       "</style>\n",
       "<table border=\"1\" class=\"dataframe\">\n",
       "  <thead>\n",
       "    <tr style=\"text-align: right;\">\n",
       "      <th></th>\n",
       "      <th>Date</th>\n",
       "      <th>MinTemp</th>\n",
       "      <th>MaxTemp</th>\n",
       "      <th>Rainfall</th>\n",
       "      <th>Evaporation</th>\n",
       "      <th>Sunshine</th>\n",
       "      <th>WindGustDir</th>\n",
       "      <th>WindGustSpeed</th>\n",
       "      <th>WindDir9am</th>\n",
       "      <th>WindDir3pm</th>\n",
       "      <th>...</th>\n",
       "      <th>Humidity9am</th>\n",
       "      <th>Humidity3pm</th>\n",
       "      <th>Pressure9am</th>\n",
       "      <th>Pressure3pm</th>\n",
       "      <th>Cloud9am</th>\n",
       "      <th>Cloud3pm</th>\n",
       "      <th>Temp9am</th>\n",
       "      <th>Temp3pm</th>\n",
       "      <th>RainToday</th>\n",
       "      <th>RainTomorrow</th>\n",
       "    </tr>\n",
       "  </thead>\n",
       "  <tbody>\n",
       "    <tr>\n",
       "      <th>0</th>\n",
       "      <td>2/1/2008</td>\n",
       "      <td>19.5</td>\n",
       "      <td>22.4</td>\n",
       "      <td>15.6</td>\n",
       "      <td>6.2</td>\n",
       "      <td>0.0</td>\n",
       "      <td>W</td>\n",
       "      <td>41</td>\n",
       "      <td>S</td>\n",
       "      <td>SSW</td>\n",
       "      <td>...</td>\n",
       "      <td>92</td>\n",
       "      <td>84</td>\n",
       "      <td>1017.6</td>\n",
       "      <td>1017.4</td>\n",
       "      <td>8</td>\n",
       "      <td>8</td>\n",
       "      <td>20.7</td>\n",
       "      <td>20.9</td>\n",
       "      <td>Yes</td>\n",
       "      <td>Yes</td>\n",
       "    </tr>\n",
       "    <tr>\n",
       "      <th>1</th>\n",
       "      <td>2/2/2008</td>\n",
       "      <td>19.5</td>\n",
       "      <td>25.6</td>\n",
       "      <td>6.0</td>\n",
       "      <td>3.4</td>\n",
       "      <td>2.7</td>\n",
       "      <td>W</td>\n",
       "      <td>41</td>\n",
       "      <td>W</td>\n",
       "      <td>E</td>\n",
       "      <td>...</td>\n",
       "      <td>83</td>\n",
       "      <td>73</td>\n",
       "      <td>1017.9</td>\n",
       "      <td>1016.4</td>\n",
       "      <td>7</td>\n",
       "      <td>7</td>\n",
       "      <td>22.4</td>\n",
       "      <td>24.8</td>\n",
       "      <td>Yes</td>\n",
       "      <td>Yes</td>\n",
       "    </tr>\n",
       "    <tr>\n",
       "      <th>2</th>\n",
       "      <td>2/3/2008</td>\n",
       "      <td>21.6</td>\n",
       "      <td>24.5</td>\n",
       "      <td>6.6</td>\n",
       "      <td>2.4</td>\n",
       "      <td>0.1</td>\n",
       "      <td>W</td>\n",
       "      <td>41</td>\n",
       "      <td>ESE</td>\n",
       "      <td>ESE</td>\n",
       "      <td>...</td>\n",
       "      <td>88</td>\n",
       "      <td>86</td>\n",
       "      <td>1016.7</td>\n",
       "      <td>1015.6</td>\n",
       "      <td>7</td>\n",
       "      <td>8</td>\n",
       "      <td>23.5</td>\n",
       "      <td>23.0</td>\n",
       "      <td>Yes</td>\n",
       "      <td>Yes</td>\n",
       "    </tr>\n",
       "    <tr>\n",
       "      <th>3</th>\n",
       "      <td>2/4/2008</td>\n",
       "      <td>20.2</td>\n",
       "      <td>22.8</td>\n",
       "      <td>18.8</td>\n",
       "      <td>2.2</td>\n",
       "      <td>0.0</td>\n",
       "      <td>W</td>\n",
       "      <td>41</td>\n",
       "      <td>NNE</td>\n",
       "      <td>E</td>\n",
       "      <td>...</td>\n",
       "      <td>83</td>\n",
       "      <td>90</td>\n",
       "      <td>1014.2</td>\n",
       "      <td>1011.8</td>\n",
       "      <td>8</td>\n",
       "      <td>8</td>\n",
       "      <td>21.4</td>\n",
       "      <td>20.9</td>\n",
       "      <td>Yes</td>\n",
       "      <td>Yes</td>\n",
       "    </tr>\n",
       "    <tr>\n",
       "      <th>4</th>\n",
       "      <td>2/5/2008</td>\n",
       "      <td>19.7</td>\n",
       "      <td>25.7</td>\n",
       "      <td>77.4</td>\n",
       "      <td>4.8</td>\n",
       "      <td>0.0</td>\n",
       "      <td>W</td>\n",
       "      <td>41</td>\n",
       "      <td>NNE</td>\n",
       "      <td>W</td>\n",
       "      <td>...</td>\n",
       "      <td>88</td>\n",
       "      <td>74</td>\n",
       "      <td>1008.3</td>\n",
       "      <td>1004.8</td>\n",
       "      <td>8</td>\n",
       "      <td>8</td>\n",
       "      <td>22.5</td>\n",
       "      <td>25.5</td>\n",
       "      <td>Yes</td>\n",
       "      <td>Yes</td>\n",
       "    </tr>\n",
       "    <tr>\n",
       "      <th>5</th>\n",
       "      <td>2/6/2008</td>\n",
       "      <td>20.2</td>\n",
       "      <td>27.2</td>\n",
       "      <td>1.6</td>\n",
       "      <td>2.6</td>\n",
       "      <td>8.6</td>\n",
       "      <td>W</td>\n",
       "      <td>41</td>\n",
       "      <td>W</td>\n",
       "      <td>ENE</td>\n",
       "      <td>...</td>\n",
       "      <td>69</td>\n",
       "      <td>62</td>\n",
       "      <td>1002.7</td>\n",
       "      <td>998.6</td>\n",
       "      <td>6</td>\n",
       "      <td>6</td>\n",
       "      <td>23.8</td>\n",
       "      <td>26.0</td>\n",
       "      <td>Yes</td>\n",
       "      <td>Yes</td>\n",
       "    </tr>\n",
       "    <tr>\n",
       "      <th>6</th>\n",
       "      <td>2/7/2008</td>\n",
       "      <td>18.6</td>\n",
       "      <td>26.3</td>\n",
       "      <td>6.2</td>\n",
       "      <td>5.2</td>\n",
       "      <td>5.2</td>\n",
       "      <td>W</td>\n",
       "      <td>41</td>\n",
       "      <td>W</td>\n",
       "      <td>S</td>\n",
       "      <td>...</td>\n",
       "      <td>75</td>\n",
       "      <td>80</td>\n",
       "      <td>999.0</td>\n",
       "      <td>1000.3</td>\n",
       "      <td>4</td>\n",
       "      <td>7</td>\n",
       "      <td>21.7</td>\n",
       "      <td>22.3</td>\n",
       "      <td>Yes</td>\n",
       "      <td>Yes</td>\n",
       "    </tr>\n",
       "    <tr>\n",
       "      <th>7</th>\n",
       "      <td>2/8/2008</td>\n",
       "      <td>17.2</td>\n",
       "      <td>22.3</td>\n",
       "      <td>27.6</td>\n",
       "      <td>5.8</td>\n",
       "      <td>2.1</td>\n",
       "      <td>W</td>\n",
       "      <td>41</td>\n",
       "      <td>S</td>\n",
       "      <td>SE</td>\n",
       "      <td>...</td>\n",
       "      <td>77</td>\n",
       "      <td>61</td>\n",
       "      <td>1008.3</td>\n",
       "      <td>1007.4</td>\n",
       "      <td>7</td>\n",
       "      <td>8</td>\n",
       "      <td>18.9</td>\n",
       "      <td>21.1</td>\n",
       "      <td>Yes</td>\n",
       "      <td>Yes</td>\n",
       "    </tr>\n",
       "    <tr>\n",
       "      <th>8</th>\n",
       "      <td>2/9/2008</td>\n",
       "      <td>16.4</td>\n",
       "      <td>20.8</td>\n",
       "      <td>12.6</td>\n",
       "      <td>4.8</td>\n",
       "      <td>3.0</td>\n",
       "      <td>W</td>\n",
       "      <td>41</td>\n",
       "      <td>SSW</td>\n",
       "      <td>W</td>\n",
       "      <td>...</td>\n",
       "      <td>92</td>\n",
       "      <td>91</td>\n",
       "      <td>1006.4</td>\n",
       "      <td>1007.6</td>\n",
       "      <td>7</td>\n",
       "      <td>7</td>\n",
       "      <td>17.1</td>\n",
       "      <td>16.5</td>\n",
       "      <td>Yes</td>\n",
       "      <td>Yes</td>\n",
       "    </tr>\n",
       "    <tr>\n",
       "      <th>9</th>\n",
       "      <td>2/10/2008</td>\n",
       "      <td>14.6</td>\n",
       "      <td>24.2</td>\n",
       "      <td>8.8</td>\n",
       "      <td>4.4</td>\n",
       "      <td>10.1</td>\n",
       "      <td>W</td>\n",
       "      <td>41</td>\n",
       "      <td>W</td>\n",
       "      <td>SSE</td>\n",
       "      <td>...</td>\n",
       "      <td>80</td>\n",
       "      <td>53</td>\n",
       "      <td>1014.0</td>\n",
       "      <td>1013.4</td>\n",
       "      <td>4</td>\n",
       "      <td>2</td>\n",
       "      <td>17.2</td>\n",
       "      <td>23.3</td>\n",
       "      <td>Yes</td>\n",
       "      <td>No</td>\n",
       "    </tr>\n",
       "  </tbody>\n",
       "</table>\n",
       "<p>10 rows × 22 columns</p>\n",
       "</div>"
      ],
      "text/plain": [
       "        Date  MinTemp  MaxTemp  Rainfall  Evaporation  Sunshine WindGustDir  \\\n",
       "0   2/1/2008     19.5     22.4      15.6          6.2       0.0           W   \n",
       "1   2/2/2008     19.5     25.6       6.0          3.4       2.7           W   \n",
       "2   2/3/2008     21.6     24.5       6.6          2.4       0.1           W   \n",
       "3   2/4/2008     20.2     22.8      18.8          2.2       0.0           W   \n",
       "4   2/5/2008     19.7     25.7      77.4          4.8       0.0           W   \n",
       "5   2/6/2008     20.2     27.2       1.6          2.6       8.6           W   \n",
       "6   2/7/2008     18.6     26.3       6.2          5.2       5.2           W   \n",
       "7   2/8/2008     17.2     22.3      27.6          5.8       2.1           W   \n",
       "8   2/9/2008     16.4     20.8      12.6          4.8       3.0           W   \n",
       "9  2/10/2008     14.6     24.2       8.8          4.4      10.1           W   \n",
       "\n",
       "   WindGustSpeed WindDir9am WindDir3pm  ...  Humidity9am  Humidity3pm  \\\n",
       "0             41          S        SSW  ...           92           84   \n",
       "1             41          W          E  ...           83           73   \n",
       "2             41        ESE        ESE  ...           88           86   \n",
       "3             41        NNE          E  ...           83           90   \n",
       "4             41        NNE          W  ...           88           74   \n",
       "5             41          W        ENE  ...           69           62   \n",
       "6             41          W          S  ...           75           80   \n",
       "7             41          S         SE  ...           77           61   \n",
       "8             41        SSW          W  ...           92           91   \n",
       "9             41          W        SSE  ...           80           53   \n",
       "\n",
       "   Pressure9am  Pressure3pm  Cloud9am  Cloud3pm  Temp9am  Temp3pm  RainToday  \\\n",
       "0       1017.6       1017.4         8         8     20.7     20.9        Yes   \n",
       "1       1017.9       1016.4         7         7     22.4     24.8        Yes   \n",
       "2       1016.7       1015.6         7         8     23.5     23.0        Yes   \n",
       "3       1014.2       1011.8         8         8     21.4     20.9        Yes   \n",
       "4       1008.3       1004.8         8         8     22.5     25.5        Yes   \n",
       "5       1002.7        998.6         6         6     23.8     26.0        Yes   \n",
       "6        999.0       1000.3         4         7     21.7     22.3        Yes   \n",
       "7       1008.3       1007.4         7         8     18.9     21.1        Yes   \n",
       "8       1006.4       1007.6         7         7     17.1     16.5        Yes   \n",
       "9       1014.0       1013.4         4         2     17.2     23.3        Yes   \n",
       "\n",
       "   RainTomorrow  \n",
       "0           Yes  \n",
       "1           Yes  \n",
       "2           Yes  \n",
       "3           Yes  \n",
       "4           Yes  \n",
       "5           Yes  \n",
       "6           Yes  \n",
       "7           Yes  \n",
       "8           Yes  \n",
       "9            No  \n",
       "\n",
       "[10 rows x 22 columns]"
      ]
     },
     "execution_count": 3,
     "metadata": {},
     "output_type": "execute_result"
    }
   ],
   "source": [
    "df.head(10)"
   ]
  },
  {
   "cell_type": "markdown",
   "id": "66dc58fb",
   "metadata": {},
   "source": [
    "The snippet of table produced is rather hard to read. We can transpose the first row only in an easy to read way"
   ]
  },
  {
   "cell_type": "code",
   "execution_count": 4,
   "id": "cc588ff0",
   "metadata": {},
   "outputs": [
    {
     "data": {
      "text/html": [
       "<div>\n",
       "<style scoped>\n",
       "    .dataframe tbody tr th:only-of-type {\n",
       "        vertical-align: middle;\n",
       "    }\n",
       "\n",
       "    .dataframe tbody tr th {\n",
       "        vertical-align: top;\n",
       "    }\n",
       "\n",
       "    .dataframe thead th {\n",
       "        text-align: right;\n",
       "    }\n",
       "</style>\n",
       "<table border=\"1\" class=\"dataframe\">\n",
       "  <thead>\n",
       "    <tr style=\"text-align: right;\">\n",
       "      <th></th>\n",
       "      <th>0</th>\n",
       "    </tr>\n",
       "  </thead>\n",
       "  <tbody>\n",
       "    <tr>\n",
       "      <th>Date</th>\n",
       "      <td>2/1/2008</td>\n",
       "    </tr>\n",
       "    <tr>\n",
       "      <th>MinTemp</th>\n",
       "      <td>19.5</td>\n",
       "    </tr>\n",
       "    <tr>\n",
       "      <th>MaxTemp</th>\n",
       "      <td>22.4</td>\n",
       "    </tr>\n",
       "    <tr>\n",
       "      <th>Rainfall</th>\n",
       "      <td>15.6</td>\n",
       "    </tr>\n",
       "    <tr>\n",
       "      <th>Evaporation</th>\n",
       "      <td>6.2</td>\n",
       "    </tr>\n",
       "    <tr>\n",
       "      <th>Sunshine</th>\n",
       "      <td>0.0</td>\n",
       "    </tr>\n",
       "    <tr>\n",
       "      <th>WindGustDir</th>\n",
       "      <td>W</td>\n",
       "    </tr>\n",
       "    <tr>\n",
       "      <th>WindGustSpeed</th>\n",
       "      <td>41</td>\n",
       "    </tr>\n",
       "    <tr>\n",
       "      <th>WindDir9am</th>\n",
       "      <td>S</td>\n",
       "    </tr>\n",
       "    <tr>\n",
       "      <th>WindDir3pm</th>\n",
       "      <td>SSW</td>\n",
       "    </tr>\n",
       "    <tr>\n",
       "      <th>WindSpeed9am</th>\n",
       "      <td>17</td>\n",
       "    </tr>\n",
       "    <tr>\n",
       "      <th>WindSpeed3pm</th>\n",
       "      <td>20</td>\n",
       "    </tr>\n",
       "    <tr>\n",
       "      <th>Humidity9am</th>\n",
       "      <td>92</td>\n",
       "    </tr>\n",
       "    <tr>\n",
       "      <th>Humidity3pm</th>\n",
       "      <td>84</td>\n",
       "    </tr>\n",
       "    <tr>\n",
       "      <th>Pressure9am</th>\n",
       "      <td>1017.6</td>\n",
       "    </tr>\n",
       "    <tr>\n",
       "      <th>Pressure3pm</th>\n",
       "      <td>1017.4</td>\n",
       "    </tr>\n",
       "    <tr>\n",
       "      <th>Cloud9am</th>\n",
       "      <td>8</td>\n",
       "    </tr>\n",
       "    <tr>\n",
       "      <th>Cloud3pm</th>\n",
       "      <td>8</td>\n",
       "    </tr>\n",
       "    <tr>\n",
       "      <th>Temp9am</th>\n",
       "      <td>20.7</td>\n",
       "    </tr>\n",
       "    <tr>\n",
       "      <th>Temp3pm</th>\n",
       "      <td>20.9</td>\n",
       "    </tr>\n",
       "    <tr>\n",
       "      <th>RainToday</th>\n",
       "      <td>Yes</td>\n",
       "    </tr>\n",
       "    <tr>\n",
       "      <th>RainTomorrow</th>\n",
       "      <td>Yes</td>\n",
       "    </tr>\n",
       "  </tbody>\n",
       "</table>\n",
       "</div>"
      ],
      "text/plain": [
       "                      0\n",
       "Date           2/1/2008\n",
       "MinTemp            19.5\n",
       "MaxTemp            22.4\n",
       "Rainfall           15.6\n",
       "Evaporation         6.2\n",
       "Sunshine            0.0\n",
       "WindGustDir           W\n",
       "WindGustSpeed        41\n",
       "WindDir9am            S\n",
       "WindDir3pm          SSW\n",
       "WindSpeed9am         17\n",
       "WindSpeed3pm         20\n",
       "Humidity9am          92\n",
       "Humidity3pm          84\n",
       "Pressure9am      1017.6\n",
       "Pressure3pm      1017.4\n",
       "Cloud9am              8\n",
       "Cloud3pm              8\n",
       "Temp9am            20.7\n",
       "Temp3pm            20.9\n",
       "RainToday           Yes\n",
       "RainTomorrow        Yes"
      ]
     },
     "execution_count": 4,
     "metadata": {},
     "output_type": "execute_result"
    }
   ],
   "source": [
    "df.head(1).transpose()"
   ]
  },
  {
   "cell_type": "markdown",
   "id": "f0df8338",
   "metadata": {},
   "source": [
    "By reviewing the first row, all columns look populated which is good. Let's check the remainder of the rows for null values and the data types for each column"
   ]
  },
  {
   "cell_type": "code",
   "execution_count": 5,
   "id": "c39aecba",
   "metadata": {},
   "outputs": [
    {
     "data": {
      "text/plain": [
       "Date             0\n",
       "MinTemp          0\n",
       "MaxTemp          0\n",
       "Rainfall         0\n",
       "Evaporation      0\n",
       "Sunshine         0\n",
       "WindGustDir      0\n",
       "WindGustSpeed    0\n",
       "WindDir9am       0\n",
       "WindDir3pm       0\n",
       "WindSpeed9am     0\n",
       "WindSpeed3pm     0\n",
       "Humidity9am      0\n",
       "Humidity3pm      0\n",
       "Pressure9am      0\n",
       "Pressure3pm      0\n",
       "Cloud9am         0\n",
       "Cloud3pm         0\n",
       "Temp9am          0\n",
       "Temp3pm          0\n",
       "RainToday        0\n",
       "RainTomorrow     0\n",
       "dtype: int64"
      ]
     },
     "execution_count": 5,
     "metadata": {},
     "output_type": "execute_result"
    }
   ],
   "source": [
    "df.isnull().sum()"
   ]
  },
  {
   "cell_type": "code",
   "execution_count": 6,
   "id": "1318e28e",
   "metadata": {},
   "outputs": [
    {
     "name": "stdout",
     "output_type": "stream",
     "text": [
      "<class 'pandas.core.frame.DataFrame'>\n",
      "RangeIndex: 3271 entries, 0 to 3270\n",
      "Data columns (total 22 columns):\n",
      " #   Column         Non-Null Count  Dtype  \n",
      "---  ------         --------------  -----  \n",
      " 0   Date           3271 non-null   object \n",
      " 1   MinTemp        3271 non-null   float64\n",
      " 2   MaxTemp        3271 non-null   float64\n",
      " 3   Rainfall       3271 non-null   float64\n",
      " 4   Evaporation    3271 non-null   float64\n",
      " 5   Sunshine       3271 non-null   float64\n",
      " 6   WindGustDir    3271 non-null   object \n",
      " 7   WindGustSpeed  3271 non-null   int64  \n",
      " 8   WindDir9am     3271 non-null   object \n",
      " 9   WindDir3pm     3271 non-null   object \n",
      " 10  WindSpeed9am   3271 non-null   int64  \n",
      " 11  WindSpeed3pm   3271 non-null   int64  \n",
      " 12  Humidity9am    3271 non-null   int64  \n",
      " 13  Humidity3pm    3271 non-null   int64  \n",
      " 14  Pressure9am    3271 non-null   float64\n",
      " 15  Pressure3pm    3271 non-null   float64\n",
      " 16  Cloud9am       3271 non-null   int64  \n",
      " 17  Cloud3pm       3271 non-null   int64  \n",
      " 18  Temp9am        3271 non-null   float64\n",
      " 19  Temp3pm        3271 non-null   float64\n",
      " 20  RainToday      3271 non-null   object \n",
      " 21  RainTomorrow   3271 non-null   object \n",
      "dtypes: float64(9), int64(7), object(6)\n",
      "memory usage: 562.3+ KB\n"
     ]
    }
   ],
   "source": [
    "df.info()"
   ]
  },
  {
   "cell_type": "markdown",
   "id": "54fdc741",
   "metadata": {},
   "source": [
    "Using both the `isnull()` and `info()` command we can see that there is no null values present. Not only this, but we can see that 6 columns consist of string / object data types. For simplicity we'll be removing most of these columns when modelling"
   ]
  },
  {
   "cell_type": "markdown",
   "id": "8660b601",
   "metadata": {},
   "source": [
    "*As a side note, if we wanted to preserve as much data as possible in our dataframe, we could have used a technique called **\"One Hot Encoding\"** that would've converted the string columns to numerical columns via binary inputs (1 or 0).*"
   ]
  },
  {
   "cell_type": "markdown",
   "id": "ab24f047",
   "metadata": {},
   "source": [
    "Let's get a list of all the string columns and look to remove them from the main dataframe"
   ]
  },
  {
   "cell_type": "code",
   "execution_count": 7,
   "id": "49de3d0c",
   "metadata": {},
   "outputs": [
    {
     "data": {
      "text/plain": [
       "['Date',\n",
       " 'WindGustDir',\n",
       " 'WindDir9am',\n",
       " 'WindDir3pm',\n",
       " 'RainToday',\n",
       " 'RainTomorrow']"
      ]
     },
     "execution_count": 7,
     "metadata": {},
     "output_type": "execute_result"
    }
   ],
   "source": [
    "df.select_dtypes('O').columns.to_list()"
   ]
  },
  {
   "cell_type": "code",
   "execution_count": 8,
   "id": "46d01548",
   "metadata": {},
   "outputs": [
    {
     "data": {
      "text/plain": [
       "(3271, 17)"
      ]
     },
     "execution_count": 8,
     "metadata": {},
     "output_type": "execute_result"
    }
   ],
   "source": [
    "columns_remove = ['Date','WindGustDir', 'WindDir9am', 'WindDir3pm', 'RainToday']\n",
    "df_lean = df.drop(columns_remove, axis=1)\n",
    "df_lean.shape"
   ]
  },
  {
   "cell_type": "markdown",
   "id": "2c163857",
   "metadata": {},
   "source": [
    "Notice from the 6 string columns, we removed just the 5. The final column, \"RainTomorrow\" is our **dependent variable** which we'll be using in our machine learning models to predict that outcome (if there will be rain tomorrow)<br>\n",
    "\n",
    "However, we do need to amend this column as machine learning is not a fan of string values. To overcome this, we'll be reassigning the string values to numbers.<br>\n",
    "\n",
    "Let's see what string values we've got in our dependent column "
   ]
  },
  {
   "cell_type": "code",
   "execution_count": 9,
   "id": "5afc2f7c",
   "metadata": {},
   "outputs": [
    {
     "data": {
      "text/plain": [
       "No     2422\n",
       "Yes     849\n",
       "Name: RainTomorrow, dtype: int64"
      ]
     },
     "execution_count": 9,
     "metadata": {},
     "output_type": "execute_result"
    }
   ],
   "source": [
    "df_lean['RainTomorrow'].value_counts()"
   ]
  },
  {
   "cell_type": "markdown",
   "id": "40605a8f",
   "metadata": {},
   "source": [
    "As we can see above, we have two possible outcomes for our dependent variable, Yes or No. We can encode this using binary numbers of 1 and 0 respectively. "
   ]
  },
  {
   "cell_type": "code",
   "execution_count": 10,
   "id": "a6a25649",
   "metadata": {},
   "outputs": [],
   "source": [
    "df_lean.replace(['No', 'Yes'], [0,1], inplace=True)"
   ]
  },
  {
   "cell_type": "markdown",
   "id": "13ac182f",
   "metadata": {},
   "source": [
    "When the dependent variable is categoric like above this is known as a **classification problem**. Usually, the go to model is a **Logistic Regression Model**, however for the purpose of this exercise we'll be looking at numerous other models (notably Multiple Linear Regression which is more used when the dependent variable is of continuous data). <br>\n",
    "\n",
    "One final step before we start modelling is to compare the original dataframe to our modified one. "
   ]
  },
  {
   "cell_type": "code",
   "execution_count": 11,
   "id": "a1acf042",
   "metadata": {},
   "outputs": [
    {
     "name": "stdout",
     "output_type": "stream",
     "text": [
      "Number Rows In Initial DataFrame: 3271\n",
      "Number Rows In New DataFrame: 3271\n",
      "Number Columns In Initial DataFrame: 22\n",
      "Number Columns In New DataFrame: 17\n"
     ]
    }
   ],
   "source": [
    "print(\"Number Rows In Initial DataFrame:\" , df.shape[0])\n",
    "print(\"Number Rows In New DataFrame:\" , df_lean.shape[0])\n",
    "print(\"Number Columns In Initial DataFrame:\" , df.shape[1])\n",
    "print(\"Number Columns In New DataFrame:\" , df_lean.shape[1])"
   ]
  },
  {
   "cell_type": "markdown",
   "id": "36c7123e",
   "metadata": {},
   "source": [
    "## <u>1) Multiple Linear Regression"
   ]
  },
  {
   "cell_type": "markdown",
   "id": "d4816b80",
   "metadata": {},
   "source": [
    "Our first Machine Learning (ML) model we'll be focusing on is **Multiple Linear Regression (MLR)**. With MLR it is required to pick 2 or more independent variables to help predict the dependent variable (Rain Tomorrow in our case).<br>\n",
    "\n",
    "There is numerous methods we can use to help us decide which independent variables to select, but the method we're going to use is the **\"Filter Method\"** which utilises the Pearson correlation coefficient. <b>\n",
    "    \n",
    "Let us analyse the coefficients for each of the columns "
   ]
  },
  {
   "cell_type": "code",
   "execution_count": 12,
   "id": "4e7ed14a",
   "metadata": {},
   "outputs": [
    {
     "data": {
      "image/png": "[encoded data removed]",
      "text/plain": [
       "<Figure size 864x720 with 2 Axes>"
      ]
     },
     "metadata": {
      "needs_background": "light"
     },
     "output_type": "display_data"
    }
   ],
   "source": [
    "plt.figure(figsize=(12,10))\n",
    "cor = df_lean.corr()\n",
    "sns.heatmap(cor, annot=True, cmap=plt.cm.Purples)\n",
    "plt.show()"
   ]
  },
  {
   "cell_type": "markdown",
   "id": "bc0f136e",
   "metadata": {},
   "source": [
    "With Pearson coefficient the correlations can be between -1 and 1. When the coefficient is **closer to -1** this symbolises **strong negative correlation** and similarly with the coefficient **closer to 1** this shows **strong positive correlation**. A Pearson coefficient of 0 shows no correlation. <br>\n",
    "\n",
    "We just want to focus on the highly negative or positive correlations between the dependent variable (Rain Tomorrow) and the 16 independent variables to see how they get along. "
   ]
  },
  {
   "cell_type": "code",
   "execution_count": 13,
   "id": "00532c1d",
   "metadata": {},
   "outputs": [
    {
     "name": "stdout",
     "output_type": "stream",
     "text": [
      "Correlated Variables Are:\n",
      " Sunshine        0.529112\n",
      "Humidity3pm     0.477580\n",
      "Cloud3pm        0.415801\n",
      "RainTomorrow    1.000000\n",
      "Name: RainTomorrow, dtype: float64\n"
     ]
    }
   ],
   "source": [
    "cor_target = abs(cor[\"RainTomorrow\"])\n",
    "relevant_features = cor_target[cor_target>0.4] \n",
    "print(\"Correlated Variables Are:\\n\",relevant_features)"
   ]
  },
  {
   "cell_type": "markdown",
   "id": "45fe2ece",
   "metadata": {},
   "source": [
    "We have identified 3 independent variables that have a high absolute value of correlation with the dependent variable. Next, we need to check for **Multicollinearity** within these independent variables to ensure they're not highly correlated with one another. If we do pick 2 variables that are highly correlated it will be hard for us to pinpoint which of those variables impacts the dependent variable and this ultimately will hinder the reliability of our model"
   ]
  },
  {
   "cell_type": "code",
   "execution_count": 14,
   "id": "6a765d68",
   "metadata": {},
   "outputs": [
    {
     "name": "stdout",
     "output_type": "stream",
     "text": [
      "             Sunshine  Humidity3pm\n",
      "Sunshine     1.000000    -0.586476\n",
      "Humidity3pm -0.586476     1.000000\n",
      "          Sunshine  Cloud3pm\n",
      "Sunshine  1.000000 -0.677861\n",
      "Cloud3pm -0.677861  1.000000\n",
      "             Humidity3pm  Cloud3pm\n",
      "Humidity3pm     1.000000  0.472248\n",
      "Cloud3pm        0.472248  1.000000\n"
     ]
    }
   ],
   "source": [
    "print(df_lean[[\"Sunshine\",\"Humidity3pm\"]].corr())   \n",
    "print(df_lean[[\"Sunshine\",\"Cloud3pm\"]].corr())     \n",
    "print(df_lean[[\"Humidity3pm\",\"Cloud3pm\"]].corr())   "
   ]
  },
  {
   "cell_type": "markdown",
   "id": "132c3892",
   "metadata": {},
   "source": [
    "We can see that **Sunshine has a high negative correlation with both Humidity3pm & Cloud3pm**, therefore Sunshine should be discounted from the MLR model as this can result in Multicollinearity. We'll proceed with using just two independent variables, Humidity3pm & Cloud3pm.<br>\n",
    "\n",
    "We'll save these 2 independent variables into an array X. Due to the large differences in values & ranges between the 2 columns it'll be good practice to standardize these columns and put them on a similar scale"
   ]
  },
  {
   "cell_type": "code",
   "execution_count": 15,
   "id": "65dbba5c",
   "metadata": {},
   "outputs": [],
   "source": [
    "X = np.asanyarray(df_lean[['Humidity3pm','Cloud3pm']])\n",
    "X = preprocessing.StandardScaler().fit(X).transform(X.astype(float))   "
   ]
  },
  {
   "cell_type": "markdown",
   "id": "4aeb7031",
   "metadata": {},
   "source": [
    "Similarly our dependent variable  we'll put into an array called Y."
   ]
  },
  {
   "cell_type": "code",
   "execution_count": 16,
   "id": "26942930",
   "metadata": {},
   "outputs": [],
   "source": [
    "Y = np.asanyarray(df_lean[['RainTomorrow']])"
   ]
  },
  {
   "cell_type": "markdown",
   "id": "ba51df08",
   "metadata": {},
   "source": [
    "Next, we'll utilise the `train_test_split` package from `skearn` to create a **training set** with 80% of the total data and a **test set** with the remaining 20%. We'll use a random state of 10 to create these sets "
   ]
  },
  {
   "cell_type": "code",
   "execution_count": 17,
   "id": "d1fe3938",
   "metadata": {},
   "outputs": [],
   "source": [
    "X_train, X_test, Y_train, Y_test = train_test_split(X, Y, test_size=0.2, random_state=10)"
   ]
  },
  {
   "cell_type": "markdown",
   "id": "103db2ba",
   "metadata": {},
   "source": [
    "With our training data let's create a MLR model and find the key parameters for our prediction line "
   ]
  },
  {
   "cell_type": "code",
   "execution_count": 18,
   "id": "ecba6556",
   "metadata": {},
   "outputs": [
    {
     "name": "stdout",
     "output_type": "stream",
     "text": [
      "Coefficients:  [[0.15637403 0.1027266 ]]\n",
      "Intercepts:  [0.25568515]\n"
     ]
    }
   ],
   "source": [
    "LinearReg = linear_model.LinearRegression()\n",
    "LinearReg.fit(X_train, Y_train)  \n",
    "\n",
    "print ('Coefficients: ', LinearReg.coef_) \n",
    "print ('Intercepts: ', LinearReg.intercept_)"
   ]
  },
  {
   "cell_type": "markdown",
   "id": "27a7408a",
   "metadata": {},
   "source": [
    "Using the above inputs, we can write an equation of our line    "
   ]
  },
  {
   "cell_type": "markdown",
   "id": "f56f7356",
   "metadata": {},
   "source": [
    "### Rain Tomorrow = 0.26 + (0.16 x Humidity3pm) + (0.10 x Cloud3pm)"
   ]
  },
  {
   "cell_type": "markdown",
   "id": "e1bd87da",
   "metadata": {},
   "source": [
    "Using our model created from **X_train**, we can now look to test it using our test data, **X_test**, to produce values for the dependent variable, which we'll call **Y_hat**. We'll be able to compare these values to our testing dependent variables **Y_test** to see how effective the model is. A good way to do this is plotting the actual values, **Y_test** and fitted values, **Y_hat**  on a histogram line chart and comparing the frequency of values"
   ]
  },
  {
   "cell_type": "code",
   "execution_count": 19,
   "id": "452fa9fd",
   "metadata": {},
   "outputs": [
    {
     "name": "stderr",
     "output_type": "stream",
     "text": [
      "C:\\ProgramData\\Anaconda3\\lib\\site-packages\\seaborn\\distributions.py:2619: FutureWarning: `distplot` is a deprecated function and will be removed in a future version. Please adapt your code to use either `displot` (a figure-level function with similar flexibility) or `kdeplot` (an axes-level function for kernel density plots).\n",
      "  warnings.warn(msg, FutureWarning)\n",
      "C:\\ProgramData\\Anaconda3\\lib\\site-packages\\seaborn\\distributions.py:2619: FutureWarning: `distplot` is a deprecated function and will be removed in a future version. Please adapt your code to use either `displot` (a figure-level function with similar flexibility) or `kdeplot` (an axes-level function for kernel density plots).\n",
      "  warnings.warn(msg, FutureWarning)\n"
     ]
    },
    {
     "data": {
      "image/png": "[encoded data removed]",
      "text/plain": [
       "<Figure size 864x720 with 1 Axes>"
      ]
     },
     "metadata": {
      "needs_background": "light"
     },
     "output_type": "display_data"
    }
   ],
   "source": [
    "Y_hat= LinearReg.predict(X_test) \n",
    "\n",
    "width = 12\n",
    "height = 10\n",
    "plt.figure(figsize=(width, height))\n",
    "ax1 = sns.distplot(df_lean['RainTomorrow'], hist=False, color=\"r\", label=\"Actual Value\")\n",
    "sns.distplot(Y_hat, hist=False, color=\"b\", label=\"Fitted Values\" , ax=ax1)\n",
    "\n",
    "plt.title('Actual Vs Fitted Values For Rain Tomorrow')\n",
    "plt.legend(loc=\"upper right\")\n",
    "plt.xlabel('Rain Tomorrow')\n",
    "plt.ylabel('Proportion Of Days')\n",
    "plt.show()"
   ]
  },
  {
   "cell_type": "markdown",
   "id": "99ef64de",
   "metadata": {},
   "source": [
    "From the above histogram line plot, we can see that for the actual values we have frequencies of either 0 (No Rain) or 1 (Rain). When looking at our fitted values created from our MLR we can see a more continuous trend line that is not so binary. This is another prove case of why a MLR model may not be the best model for us to use. "
   ]
  },
  {
   "cell_type": "markdown",
   "id": "a98ef6ee",
   "metadata": {},
   "source": [
    "Our final step with the MLR model is looking at a few performance metrics that will calculate the accuracy of the model based on the predictive error of our values. There is 3 main metrics I will be looking to calculate; **Mean Absolute Error (MAE) , Mean Squared Error (MSE) & $R ^{2}$**  "
   ]
  },
  {
   "cell_type": "markdown",
   "id": "92b0c746",
   "metadata": {},
   "source": [
    "**Mean Absolute Error** calculates the average absolute difference between the actual values and the fitted values. A smaller MAE value indicates the actual values are close to the predicted values"
   ]
  },
  {
   "cell_type": "code",
   "execution_count": 20,
   "id": "7395ea94",
   "metadata": {},
   "outputs": [
    {
     "data": {
      "text/plain": [
       "0.29871793768155463"
      ]
     },
     "execution_count": 20,
     "metadata": {},
     "output_type": "execute_result"
    }
   ],
   "source": [
    "np.mean(np.absolute(Y_hat - Y_test))"
   ]
  },
  {
   "cell_type": "markdown",
   "id": "1a958864",
   "metadata": {},
   "source": [
    "**Mean Squared Error** is similar to the MAE, however the absolute difference is squared. Therefore, large variances will be severely impacted by this. A lower MSE indicates a more accurate model"
   ]
  },
  {
   "cell_type": "code",
   "execution_count": 21,
   "id": "96c1b96c",
   "metadata": {},
   "outputs": [
    {
     "data": {
      "text/plain": [
       "0.13729824169135424"
      ]
     },
     "execution_count": 21,
     "metadata": {},
     "output_type": "execute_result"
    }
   ],
   "source": [
    "np.mean((Y_hat -Y_test)**2)"
   ]
  },
  {
   "cell_type": "markdown",
   "id": "72283240",
   "metadata": {},
   "source": [
    "**$R ^{2}$** ultimately tells us how well the data fits the MLR model. $R ^{2}$ values fall between 0 and 1. If we have a $R ^{2}$ of 1 this means that all predictive values are identical to the actual values."
   ]
  },
  {
   "cell_type": "code",
   "execution_count": 22,
   "id": "2b20c125",
   "metadata": {},
   "outputs": [
    {
     "data": {
      "text/plain": [
       "0.32031318492530614"
      ]
     },
     "execution_count": 22,
     "metadata": {},
     "output_type": "execute_result"
    }
   ],
   "source": [
    "r2_score(Y_test, Y_hat) "
   ]
  },
  {
   "cell_type": "markdown",
   "id": "70844158",
   "metadata": {},
   "source": [
    "We can see that MAE & MSE are small values, this would usually indicate an accurate model. However, the $R ^{2}$ score is rather low at 0.32. I would take these metrics with a pinch of salt as the dependent variable is discrete and not continuous and this can skew the statistical tests.  "
   ]
  },
  {
   "cell_type": "markdown",
   "id": "0d046387",
   "metadata": {},
   "source": [
    "## <u>2) Logistic Regression"
   ]
  },
  {
   "cell_type": "markdown",
   "id": "7c9d8375",
   "metadata": {},
   "source": [
    "As mentioned prior, naturally when your dependent variable only takes 2 values it would make sense to use a **Logistic Regression (LR) model**. Let's make a LR model using the same independent variables and training data we used for the MLR. We'll also use the same test data when carrying out our analysis for the efficiency of the model. (Of course, our predicative dependent values, Y hat, will be different)"
   ]
  },
  {
   "cell_type": "markdown",
   "id": "8967492d",
   "metadata": {},
   "source": [
    "Firstly, let's plot one of the independent variables against the dependent variable to see the curvature of the plot "
   ]
  },
  {
   "cell_type": "code",
   "execution_count": 23,
   "id": "508e9590",
   "metadata": {},
   "outputs": [
    {
     "data": {
      "text/plain": [
       "<AxesSubplot:xlabel='Humidity3pm', ylabel='RainTomorrow'>"
      ]
     },
     "execution_count": 23,
     "metadata": {},
     "output_type": "execute_result"
    },
    {
     "data": {
      "image/png": "[encoded data removed]",
      "text/plain": [
       "<Figure size 432x288 with 1 Axes>"
      ]
     },
     "metadata": {
      "needs_background": "light"
     },
     "output_type": "display_data"
    }
   ],
   "source": [
    "humidity = df_lean['Humidity3pm']\n",
    "rain_tomorrow = df_lean['RainTomorrow']\n",
    "sns.regplot(x=humidity, y=rain_tomorrow, data=df_lean, logistic=True, ci=None, truncate= False)"
   ]
  },
  {
   "cell_type": "markdown",
   "id": "77964f09",
   "metadata": {},
   "source": [
    "We can see that this displays the expected \"S\" curvature we come to expect from a logistic regression plot. Let's proceed and build the LR model using our training data. <br>*Note. For Y train we need to flatten the variable so we can process it into the LR model*"
   ]
  },
  {
   "cell_type": "code",
   "execution_count": 24,
   "id": "6c7d59c8",
   "metadata": {},
   "outputs": [],
   "source": [
    "Y_train = Y_train[:, 0]\n",
    "LR = LogisticRegression(C=0.01, solver='liblinear').fit(X_train,Y_train) "
   ]
  },
  {
   "cell_type": "markdown",
   "id": "e151669f",
   "metadata": {},
   "source": [
    "Let’s use our trained LR model and produce fitted values (Y_hat). This will be different to the fitted values from the MLR as the values here will be either 0 or 1. We can also calculate the probability of what value y_hat will be."
   ]
  },
  {
   "cell_type": "code",
   "execution_count": 25,
   "id": "8515b0cf",
   "metadata": {},
   "outputs": [],
   "source": [
    "Y_hat = LR.predict(X_test)\n",
    "Y_hat_Prob = LR.predict_proba(X_test)"
   ]
  },
  {
   "cell_type": "markdown",
   "id": "033e4092",
   "metadata": {},
   "source": [
    "We can produce a **confusion matrix** to help us visualise the fitted vs actual values for the dependent variable. We'll be able to quickly see which values have been correctly and incorrectly classified. <br>\n",
    "\n",
    "The below is a basic way to quickly produce the absolute values for a confusion matrix in Python, later in this exercise I'll demonstrate another way to lay out a confusion matrix."
   ]
  },
  {
   "cell_type": "code",
   "execution_count": 26,
   "id": "ee629ce9",
   "metadata": {},
   "outputs": [
    {
     "name": "stdout",
     "output_type": "stream",
     "text": [
      "Predicted    0   1\n",
      "Actual            \n",
      "0          440  31\n",
      "1           95  89\n"
     ]
    }
   ],
   "source": [
    "Y_test = Y_test[:, 0]\n",
    "y_actual = pd.Series(Y_test, name='Actual')\n",
    "y_predicted = pd.Series(Y_hat, name='Predicted')\n",
    "print(pd.crosstab(y_actual, y_predicted))"
   ]
  },
  {
   "cell_type": "markdown",
   "id": "5b014806",
   "metadata": {},
   "source": [
    "We can deduce that **81% of the predications have been correctly classified**, ((440+89) / (440+31+95+89)) * 100. This is known as the **accuracy score**. Accuracy score usually works well when the confusion matrix is balanced, but in our case, it is not so we need to dig a little bit deeper <br>\n",
    "\n",
    "We can also calculate the **precision** (correct positive predictions relative to total positive predictions) and **recall** (correct positive predictions relative to total actual positives) of the confusion matrix through similar calculations. Luckily for us there is built in libraries that can quickly calculate this\n"
   ]
  },
  {
   "cell_type": "code",
   "execution_count": 27,
   "id": "b78af2a9",
   "metadata": {},
   "outputs": [
    {
     "name": "stdout",
     "output_type": "stream",
     "text": [
      "Accuracy: 0.8076335877862595\n",
      "Precision: 0.7416666666666667\n",
      "Recall: 0.483695652173913\n",
      "F1 Score: 0.7935035028878555\n"
     ]
    }
   ],
   "source": [
    "LR_Acc = metrics.accuracy_score(y_actual, y_predicted)\n",
    "print(\"Accuracy:\", LR_Acc)\n",
    "\n",
    "LR_Prec = metrics.precision_score(y_actual, y_predicted)\n",
    "print(\"Precision:\", LR_Prec)\n",
    "\n",
    "LR_Recal = metrics.recall_score(y_actual, y_predicted)\n",
    "print(\"Recall:\", LR_Recal)\n",
    "\n",
    "LR_F1 = f1_score(y_actual, y_predicted, average='weighted')\n",
    "print(\"F1 Score:\", LR_F1)"
   ]
  },
  {
   "cell_type": "markdown",
   "id": "b7839359",
   "metadata": {},
   "source": [
    "We can see that we've got a **high precision but a low recall** in our model. This means when the model predicts it'll rain tomorrow it is correct 74% of the time. But out of all possible days it could rain tomorrow it can only identify 48% of these days.<br>\n",
    "\n",
    "The **F1 score** takes into consideration both the precision and recall of a model to give an overall score. A F1 score of 1.0 means we've got perfect precision & recall in a model (usually very unlikely to ever happen). Focusing on our F1 score of 0.8, this shows us our model performs well overall. "
   ]
  },
  {
   "cell_type": "markdown",
   "id": "99cb75ff",
   "metadata": {},
   "source": [
    "## <u>3) KNN - K Nearest Neighbour"
   ]
  },
  {
   "cell_type": "markdown",
   "id": "19e30fca",
   "metadata": {},
   "source": [
    "Our third choice of model we'll be looking at is again another supervised learning model that uses proximity of points to help classify results. For the **K Nearest Neighbour (KNN) model**, we'll be looking at including all of our independent variables this time.<br>\n",
    "\n",
    "We'll produce a training class of 80% and use the remaining 20% of data to test the KNN model"
   ]
  },
  {
   "cell_type": "code",
   "execution_count": 28,
   "id": "19342fee",
   "metadata": {},
   "outputs": [],
   "source": [
    "X = np.asanyarray(df_lean)\n",
    "X =X[:,0:16]\n",
    "X = preprocessing.StandardScaler().fit(X).transform(X.astype(float)) \n",
    "\n",
    "Y = np.asanyarray(df_lean[['RainTomorrow']])\n",
    "\n",
    "X_train, X_test, Y_train, Y_test = train_test_split( X, Y, test_size=0.2, random_state=4)"
   ]
  },
  {
   "cell_type": "markdown",
   "id": "6fc3f05f",
   "metadata": {},
   "source": [
    "Next, we need to decide our value for K. Using this value of K, the model will look to classify a point based on the K points surrounding it.<br>\n",
    "\n",
    "Let’s start with **K = 4** and build our model.\n"
   ]
  },
  {
   "cell_type": "code",
   "execution_count": 29,
   "id": "61c33484",
   "metadata": {},
   "outputs": [],
   "source": [
    "k = 4\n",
    "Y_train = Y_train[:, 0]\n",
    "neigh = KNeighborsClassifier(n_neighbors = k).fit(X_train,Y_train)\n"
   ]
  },
  {
   "cell_type": "markdown",
   "id": "09f8cf07",
   "metadata": {},
   "source": [
    "Like we've done before, let's predict **y_hat** using **X_test** data"
   ]
  },
  {
   "cell_type": "code",
   "execution_count": 30,
   "id": "d6aac61b",
   "metadata": {},
   "outputs": [],
   "source": [
    "y_hat = neigh.predict(X_test) "
   ]
  },
  {
   "cell_type": "markdown",
   "id": "c51ca654",
   "metadata": {},
   "source": [
    "Like Logistic Regression we can quickly calculate some metrics"
   ]
  },
  {
   "cell_type": "code",
   "execution_count": 31,
   "id": "b45aaf28",
   "metadata": {},
   "outputs": [
    {
     "name": "stdout",
     "output_type": "stream",
     "text": [
      "Accuracy: 0.8290076335877863\n",
      "Precision: 0.8141592920353983\n",
      "Recall: 0.5027322404371585\n",
      "F1 Score: 0.8146910449905165\n"
     ]
    }
   ],
   "source": [
    "KNN_Acc = metrics.accuracy_score(Y_test, y_hat)\n",
    "print(\"Accuracy:\", KNN_Acc)\n",
    "\n",
    "KNN_Prec = metrics.precision_score(Y_test, y_hat)\n",
    "print(\"Precision:\", KNN_Prec)\n",
    "\n",
    "KNN_Recal = metrics.recall_score(Y_test, y_hat)\n",
    "print(\"Recall:\", KNN_Recal)\n",
    "\n",
    "KNN_F1 = f1_score(Y_test, y_hat, average='weighted')\n",
    "print(\"F1 Score:\", KNN_F1)\n",
    "\n"
   ]
  },
  {
   "cell_type": "markdown",
   "id": "ba2a9669",
   "metadata": {},
   "source": [
    "We can see that all metrics have performed slightly better when compared to the logistic regression model. A KNN model could be a good ML model to use to help us predict Rain tomorrow.<br>\n",
    "\n",
    "On a side note, say we wanted to **optimise the value of K** to give us the **highest possible accuracy rate**. We can iterate through different values of K to do just that\n"
   ]
  },
  {
   "cell_type": "code",
   "execution_count": 32,
   "id": "e123cdfb",
   "metadata": {},
   "outputs": [
    {
     "name": "stdout",
     "output_type": "stream",
     "text": [
      "Highest Accuracy Score Is 0.8412213740458016 Using k= 9\n"
     ]
    },
    {
     "data": {
      "image/png": "[encoded data removed]",
      "text/plain": [
       "<Figure size 432x288 with 1 Axes>"
      ]
     },
     "metadata": {
      "needs_background": "light"
     },
     "output_type": "display_data"
    }
   ],
   "source": [
    "Ks = 11\n",
    "mean_acc = np.zeros((Ks-1))\n",
    "\n",
    "for n in range(1,Ks):\n",
    "    \n",
    "    \n",
    "    neigh = KNeighborsClassifier(n_neighbors = n).fit(X_train,Y_train)\n",
    "    y_hat=neigh.predict(X_test)\n",
    "    mean_acc[n-1] = metrics.accuracy_score(Y_test, y_hat)\n",
    "    \n",
    "mean_acc\n",
    "\n",
    "\n",
    "plt.plot(range(1,Ks),mean_acc,'r')\n",
    "plt.ylabel('Accuracy ')\n",
    "plt.xlabel('Number of Neighbors (K)')\n",
    "\n",
    "\n",
    "print( \"Highest Accuracy Score Is\", mean_acc.max(), \"Using k=\", mean_acc.argmax()+1) \n"
   ]
  },
  {
   "cell_type": "markdown",
   "id": "c064fbc1",
   "metadata": {},
   "source": [
    "Iterating through values of K and plotting the accuracy score on a line graph we can see that the **optimum value for K is 9**.<br>\n",
    "\n",
    "It is better using a higher value for K as this will take into consideration a greater range of values when classifying. If the K value is low, we can misinterpret results by noisy / outlying data"
   ]
  },
  {
   "cell_type": "markdown",
   "id": "b5fe69f6",
   "metadata": {},
   "source": [
    "## <u>4) Decision Trees"
   ]
  },
  {
   "cell_type": "markdown",
   "id": "a2e41cb5",
   "metadata": {},
   "source": [
    "The final ML we'll be looking at is **Decision Trees (DT)**. Decision trees are fantastic at visualising characteristics of data and presenting them in a way which is easy to understand by non-mathematical people via the easy-to-follow flow chart like structure. We can take large quantities of data (numerical and categorical) and with a few lines of code we can have a fully built decisional tree of numerous depths.<br>\n",
    "\n",
    "Again, like KNN let's use all variables as our independent values. For simplicity we'll create our DT with a depth of 3 tiers\n"
   ]
  },
  {
   "cell_type": "code",
   "execution_count": 33,
   "id": "74a4d128",
   "metadata": {},
   "outputs": [
    {
     "data": {
      "text/plain": [
       "DecisionTreeClassifier(criterion='entropy', max_depth=3)"
      ]
     },
     "execution_count": 33,
     "metadata": {},
     "output_type": "execute_result"
    }
   ],
   "source": [
    "X = np.asanyarray(df_lean)\n",
    "X =X[:,0:16]\n",
    "X = preprocessing.StandardScaler().fit(X).transform(X.astype(float))  \n",
    "\n",
    "Y = np.asanyarray(df_lean[['RainTomorrow']])\n",
    "\n",
    "X_train, X_test, Y_train, Y_test = train_test_split( X, Y, test_size=0.2, random_state=4)\n",
    "\n",
    "Tree = DecisionTreeClassifier(criterion=\"entropy\", max_depth = 3)     \n",
    "Tree.fit(X_train,Y_train) "
   ]
  },
  {
   "cell_type": "markdown",
   "id": "f3335277",
   "metadata": {},
   "source": [
    "Let's visualise the decision tree using `tree.plot_tree`"
   ]
  },
  {
   "cell_type": "code",
   "execution_count": 34,
   "id": "839121af",
   "metadata": {},
   "outputs": [
    {
     "data": {
      "text/plain": [
       "[Text(0.5, 0.875, 'node #0\\nSunshine <= -0.136\\nsamples = 2616\\nvalue = [1950, 666]\\nclass = No Rain Tomorrow'),\n",
       " Text(0.25, 0.625, 'node #1\\nHumidity3pm <= 1.155\\nsamples = 986\\nvalue = [481, 505]\\nclass = Rain Tomorrow'),\n",
       " Text(0.125, 0.375, 'node #2\\nRainfall <= -0.125\\nsamples = 710\\nvalue = [442, 268]\\nclass = No Rain Tomorrow'),\n",
       " Text(0.0625, 0.125, 'node #3\\nsamples = 505\\nvalue = [354, 151]\\nclass = No Rain Tomorrow'),\n",
       " Text(0.1875, 0.125, 'node #4\\nsamples = 205\\nvalue = [88, 117]\\nclass = Rain Tomorrow'),\n",
       " Text(0.375, 0.375, 'node #5\\nHumidity3pm <= 1.524\\nsamples = 276\\nvalue = [39, 237]\\nclass = Rain Tomorrow'),\n",
       " Text(0.3125, 0.125, 'node #6\\nsamples = 95\\nvalue = [26, 69]\\nclass = Rain Tomorrow'),\n",
       " Text(0.4375, 0.125, 'node #7\\nsamples = 181\\nvalue = [13, 168]\\nclass = Rain Tomorrow'),\n",
       " Text(0.75, 0.625, 'node #8\\nSunshine <= 0.703\\nsamples = 1630\\nvalue = [1469, 161]\\nclass = No Rain Tomorrow'),\n",
       " Text(0.625, 0.375, 'node #9\\nTemp9am <= 0.006\\nsamples = 826\\nvalue = [688, 138]\\nclass = No Rain Tomorrow'),\n",
       " Text(0.5625, 0.125, 'node #10\\nsamples = 452\\nvalue = [408, 44]\\nclass = No Rain Tomorrow'),\n",
       " Text(0.6875, 0.125, 'node #11\\nsamples = 374\\nvalue = [280, 94]\\nclass = No Rain Tomorrow'),\n",
       " Text(0.875, 0.375, 'node #12\\nWindSpeed3pm <= 1.973\\nsamples = 804\\nvalue = [781, 23]\\nclass = No Rain Tomorrow'),\n",
       " Text(0.8125, 0.125, 'node #13\\nsamples = 778\\nvalue = [759, 19]\\nclass = No Rain Tomorrow'),\n",
       " Text(0.9375, 0.125, 'node #14\\nsamples = 26\\nvalue = [22, 4]\\nclass = No Rain Tomorrow')]"
      ]
     },
     "execution_count": 34,
     "metadata": {},
     "output_type": "execute_result"
    },
    {
     "data": {
      "image/png": "[encoded data removed]",
      "text/plain": [
       "<Figure size 432x288 with 1 Axes>"
      ]
     },
     "metadata": {
      "needs_background": "light"
     },
     "output_type": "display_data"
    }
   ],
   "source": [
    "all_columns = df_lean.columns.values.tolist()\n",
    "feature_names = all_columns[0:16]\n",
    "\n",
    "class_names =  ['No Rain Tomorrow', 'Rain Tomorrow']\n",
    "\n",
    "tree.plot_tree(Tree,\n",
    "                feature_names = feature_names,\n",
    "                class_names=class_names,\n",
    "                filled=True,\n",
    "                node_ids=True,\n",
    "                impurity=False,\n",
    "                label=\"all\")"
   ]
  },
  {
   "cell_type": "markdown",
   "id": "5cd48c79",
   "metadata": {},
   "source": [
    "Above we can see our DT along with the class it falls into (Rain or No Rain Tomorrow). We specified a tree depth of 3 and we can see all the possible outcomes of the tree on the final tier. The outcomes on the final tier of the decision tree are known as the **terminal nodes**. <br>\n",
    "\n",
    "I'm not a big fan of the built-in tree as the size of it is quite small. Another method of producing a decision tree is using an online viewer (https://dreampuf.github.io/GraphvizOnline). Using the text file created below on the variable **tree_code** we can copy and paste this into the online viewer to produce a better-quality decision tree. The long URL below will direct you to this tree.\n"
   ]
  },
  {
   "cell_type": "code",
   "execution_count": 35,
   "id": "b435ff39",
   "metadata": {},
   "outputs": [],
   "source": [
    "tree_code = tree.export_graphviz(Tree, out_file=None, \n",
    "                      feature_names=feature_names,  \n",
    "                    class_names=class_names,  \n",
    "                    filled=True, rounded=True,  \n",
    "                      special_characters=True) "
   ]
  },
  {
   "cell_type": "markdown",
   "id": "8e86327b",
   "metadata": {},
   "source": [
    "https://dreampuf.github.io/GraphvizOnline/#digraph%20Tree%20%7B%0D%0Anode%20%5Bshape%3Dbox%2C%20style%3D%22filled%2C%20rounded%22%2C%20color%3D%22black%22%2C%20fontname%3D%22helvetica%22%5D%20%3B%0D%0Aedge%20%5Bfontname%3D%22helvetica%22%5D%20%3B%0D%0A0%20%5Blabel%3D%3CSunshine%20%26le%3B%20-0.136%3Cbr%2F%3Eentropy%20%3D%200.818%3Cbr%2F%3Esamples%20%3D%202616%3Cbr%2F%3Evalue%20%3D%20%5B1950%2C%20666%5D%3Cbr%2F%3Eclass%20%3D%20No%20Rain%20Tomorrow%3E%2C%20fillcolor%3D%22%23eeac7d%22%5D%20%3B%0D%0A1%20%5Blabel%3D%3CHumidity3pm%20%26le%3B%201.155%3Cbr%2F%3Eentropy%20%3D%201.0%3Cbr%2F%3Esamples%20%3D%20986%3Cbr%2F%3Evalue%20%3D%20%5B481%2C%20505%5D%3Cbr%2F%3Eclass%20%3D%20Rain%20Tomorrow%3E%2C%20fillcolor%3D%22%23f6fafe%22%5D%20%3B%0D%0A0%20-%3E%201%20%5Blabeldistance%3D2.5%2C%20labelangle%3D45%2C%20headlabel%3D%22True%22%5D%20%3B%0D%0A2%20%5Blabel%3D%3CRainfall%20%26le%3B%20-0.125%3Cbr%2F%3Eentropy%20%3D%200.956%3Cbr%2F%3Esamples%20%3D%20710%3Cbr%2F%3Evalue%20%3D%20%5B442%2C%20268%5D%3Cbr%2F%3Eclass%20%3D%20No%20Rain%20Tomorrow%3E%2C%20fillcolor%3D%22%23f5cdb1%22%5D%20%3B%0D%0A1%20-%3E%202%20%3B%0D%0A3%20%5Blabel%3D%3Centropy%20%3D%200.88%3Cbr%2F%3Esamples%20%3D%20505%3Cbr%2F%3Evalue%20%3D%20%5B354%2C%20151%5D%3Cbr%2F%3Eclass%20%3D%20No%20Rain%20Tomorrow%3E%2C%20fillcolor%3D%22%23f0b78d%22%5D%20%3B%0D%0A2%20-%3E%203%20%3B%0D%0A4%20%5Blabel%3D%3Centropy%20%3D%200.986%3Cbr%2F%3Esamples%20%3D%20205%3Cbr%2F%3Evalue%20%3D%20%5B88%2C%20117%5D%3Cbr%2F%3Eclass%20%3D%20Rain%20Tomorrow%3E%2C%20fillcolor%3D%22%23cee7f9%22%5D%20%3B%0D%0A2%20-%3E%204%20%3B%0D%0A5%20%5Blabel%3D%3CHumidity3pm%20%26le%3B%201.524%3Cbr%2F%3Eentropy%20%3D%200.588%3Cbr%2F%3Esamples%20%3D%20276%3Cbr%2F%3Evalue%20%3D%20%5B39%2C%20237%5D%3Cbr%2F%3Eclass%20%3D%20Rain%20Tomorrow%3E%2C%20fillcolor%3D%22%235aade9%22%5D%20%3B%0D%0A1%20-%3E%205%20%3B%0D%0A6%20%5Blabel%3D%3Centropy%20%3D%200.847%3Cbr%2F%3Esamples%20%3D%2095%3Cbr%2F%3Evalue%20%3D%20%5B26%2C%2069%5D%3Cbr%2F%3Eclass%20%3D%20Rain%20Tomorrow%3E%2C%20fillcolor%3D%22%2384c2ef%22%5D%20%3B%0D%0A5%20-%3E%206%20%3B%0D%0A7%20%5Blabel%3D%3Centropy%20%3D%200.373%3Cbr%2F%3Esamples%20%3D%20181%3Cbr%2F%3Evalue%20%3D%20%5B13%2C%20168%5D%3Cbr%2F%3Eclass%20%3D%20Rain%20Tomorrow%3E%2C%20fillcolor%3D%22%2348a5e7%22%5D%20%3B%0D%0A5%20-%3E%207%20%3B%0D%0A8%20%5Blabel%3D%3CSunshine%20%26le%3B%200.703%3Cbr%2F%3Eentropy%20%3D%200.465%3Cbr%2F%3Esamples%20%3D%201630%3Cbr%2F%3Evalue%20%3D%20%5B1469%2C%20161%5D%3Cbr%2F%3Eclass%20%3D%20No%20Rain%20Tomorrow%3E%2C%20fillcolor%3D%22%23e88f4f%22%5D%20%3B%0D%0A0%20-%3E%208%20%5Blabeldistance%3D2.5%2C%20labelangle%3D-45%2C%20headlabel%3D%22False%22%5D%20%3B%0D%0A9%20%5Blabel%3D%3CTemp9am%20%26le%3B%200.006%3Cbr%2F%3Eentropy%20%3D%200.651%3Cbr%2F%3Esamples%20%3D%20826%3Cbr%2F%3Evalue%20%3D%20%5B688%2C%20138%5D%3Cbr%2F%3Eclass%20%3D%20No%20Rain%20Tomorrow%3E%2C%20fillcolor%3D%22%23ea9a61%22%5D%20%3B%0D%0A8%20-%3E%209%20%3B%0D%0A10%20%5Blabel%3D%3Centropy%20%3D%200.461%3Cbr%2F%3Esamples%20%3D%20452%3Cbr%2F%3Evalue%20%3D%20%5B408%2C%2044%5D%3Cbr%2F%3Eclass%20%3D%20No%20Rain%20Tomorrow%3E%2C%20fillcolor%3D%22%23e88f4e%22%5D%20%3B%0D%0A9%20-%3E%2010%20%3B%0D%0A11%20%5Blabel%3D%3Centropy%20%3D%200.813%3Cbr%2F%3Esamples%20%3D%20374%3Cbr%2F%3Evalue%20%3D%20%5B280%2C%2094%5D%3Cbr%2F%3Eclass%20%3D%20No%20Rain%20Tomorrow%3E%2C%20fillcolor%3D%22%23eeab7b%22%5D%20%3B%0D%0A9%20-%3E%2011%20%3B%0D%0A12%20%5Blabel%3D%3CWindSpeed3pm%20%26le%3B%201.973%3Cbr%2F%3Eentropy%20%3D%200.187%3Cbr%2F%3Esamples%20%3D%20804%3Cbr%2F%3Evalue%20%3D%20%5B781%2C%2023%5D%3Cbr%2F%3Eclass%20%3D%20No%20Rain%20Tomorrow%3E%2C%20fillcolor%3D%22%23e6853f%22%5D%20%3B%0D%0A8%20-%3E%2012%20%3B%0D%0A13%20%5Blabel%3D%3Centropy%20%3D%200.166%3Cbr%2F%3Esamples%20%3D%20778%3Cbr%2F%3Evalue%20%3D%20%5B759%2C%2019%5D%3Cbr%2F%3Eclass%20%3D%20No%20Rain%20Tomorrow%3E%2C%20fillcolor%3D%22%23e6843e%22%5D%20%3B%0D%0A12%20-%3E%2013%20%3B%0D%0A14%20%5Blabel%3D%3Centropy%20%3D%200.619%3Cbr%2F%3Esamples%20%3D%2026%3Cbr%2F%3Evalue%20%3D%20%5B22%2C%204%5D%3Cbr%2F%3Eclass%20%3D%20No%20Rain%20Tomorrow%3E%2C%20fillcolor%3D%22%23ea985d%22%5D%20%3B%0D%0A12%20-%3E%2014%20%3B%0D%0A%7D"
   ]
  },
  {
   "cell_type": "markdown",
   "id": "f66f0304",
   "metadata": {},
   "source": [
    "Let's calculate y_hat using the test data"
   ]
  },
  {
   "cell_type": "code",
   "execution_count": 36,
   "id": "7a0f5107",
   "metadata": {},
   "outputs": [],
   "source": [
    "y_hat = Tree.predict(X_test) "
   ]
  },
  {
   "cell_type": "markdown",
   "id": "edb85805",
   "metadata": {},
   "source": [
    "Let's calculate our metrics"
   ]
  },
  {
   "cell_type": "code",
   "execution_count": 37,
   "id": "293ef501",
   "metadata": {},
   "outputs": [
    {
     "name": "stdout",
     "output_type": "stream",
     "text": [
      "Accuracy: 0.8229007633587786\n",
      "Precision: 0.7375886524822695\n",
      "Recall: 0.5683060109289617\n",
      "F1 Score: 0.8151939995675963\n"
     ]
    }
   ],
   "source": [
    "DT_Acc = metrics.accuracy_score(Y_test, y_hat)\n",
    "print(\"Accuracy:\", DT_Acc)\n",
    "\n",
    "DT_Prec = metrics.precision_score(Y_test, y_hat)\n",
    "print(\"Precision:\", DT_Prec)\n",
    "\n",
    "DT_Recal = metrics.recall_score(Y_test, y_hat)\n",
    "print(\"Recall:\", DT_Recal)\n",
    "\n",
    "DT_F1 = f1_score(Y_test, y_hat, average='weighted')\n",
    "print(\"F1 Score:\", DT_F1)"
   ]
  },
  {
   "cell_type": "markdown",
   "id": "c2894194",
   "metadata": {},
   "source": [
    "Like we demonstrated for Logistic Regression we can compile a confusion matrix to compare the actual vs predicted values of our decision tree"
   ]
  },
  {
   "cell_type": "code",
   "execution_count": 38,
   "id": "0414066d",
   "metadata": {},
   "outputs": [
    {
     "name": "stdout",
     "output_type": "stream",
     "text": [
      "Predicted    0    1\n",
      "Actual             \n",
      "0          435   37\n",
      "1           79  104\n"
     ]
    }
   ],
   "source": [
    "Y_test = Y_test[:, 0]\n",
    "y_actual = pd.Series(Y_test, name='Actual')\n",
    "y_predicted = pd.Series(y_hat, name='Predicted')\n",
    "print(pd.crosstab(y_actual, y_predicted))"
   ]
  },
  {
   "cell_type": "markdown",
   "id": "463f1922",
   "metadata": {},
   "source": [
    "We can take this one step further, say instead of using the absolute numbers we can work out the % distribution for each row and see the likelihood of each event happening"
   ]
  },
  {
   "cell_type": "code",
   "execution_count": 39,
   "id": "4292fa29",
   "metadata": {},
   "outputs": [
    {
     "data": {
      "image/png": "[encoded data removed]",
      "text/plain": [
       "<Figure size 576x432 with 2 Axes>"
      ]
     },
     "metadata": {
      "needs_background": "light"
     },
     "output_type": "display_data"
    }
   ],
   "source": [
    "a_confusion_matrix = confusion_matrix(Y_test, y_hat)\n",
    "\n",
    "title = 'Confusion Matrix'\n",
    "cmap = plt.cm.Purples\n",
    "\n",
    "plt.figure(figsize=(8, 6))\n",
    "a_confusion_matrix = (\n",
    "    a_confusion_matrix.astype('float') / a_confusion_matrix.sum(axis=1)[:, np.newaxis]\n",
    "    ) * 100\n",
    "\n",
    "plt.imshow(a_confusion_matrix, interpolation='nearest', cmap=cmap)\n",
    "plt.title(title)\n",
    "plt.colorbar()\n",
    "tick_marks = np.arange(len(class_names))\n",
    "plt.xticks(tick_marks, class_names)\n",
    "plt.yticks(tick_marks, class_names)\n",
    "\n",
    "fmt = '.2f'\n",
    "thresh = a_confusion_matrix.max() / 2.\n",
    "for i, j in itertools.product(range(a_confusion_matrix.shape[0]), range(a_confusion_matrix.shape[1])):\n",
    "    plt.text(j, i, format(a_confusion_matrix[i, j], fmt),\n",
    "             horizontalalignment=\"center\",\n",
    "             color=\"white\" if a_confusion_matrix[i, j] > thresh else \"black\")\n",
    "\n",
    "plt.tight_layout()\n",
    "plt.ylabel('Actual')\n",
    "plt.xlabel('Predicted')\n",
    "\n",
    "plt.show()\n"
   ]
  },
  {
   "cell_type": "markdown",
   "id": "b44c3bdf",
   "metadata": {},
   "source": [
    "We can deduce above that when there is no rain tomorrow (row 1), the model is pretty good at predicting this. But when there is rain tomorrow (row 2), the model 43% of the time will make an incorrect forecast. Due to a high % value in the bottom left, also known as our **False Negative**, this means the model has a **low recall score** as we identified above"
   ]
  },
  {
   "cell_type": "markdown",
   "id": "691bd632",
   "metadata": {},
   "source": [
    "## <u>Conclusion"
   ]
  },
  {
   "cell_type": "markdown",
   "id": "fe956884",
   "metadata": {},
   "source": [
    "We have produced 4 different types of models to help us predict our dependent variable (Rain tomorrow). Albeit the first model, multiple linear regression (MLR) was created as an exercise piece. We can still focus on our other 3 supervised learning models, **Logistic Regression (LR)**, **K-Nearest Neighbour (KNN)** & **Decisional Tree (DT)** to help us choose the machine learning model we'll like to use. <br>\n",
    "\n",
    "For those 3 models we've been calculating various performance metrics; **Accuracy**, **Precision**, **Recall** and **F1 Score**.<br>\n",
    "\n",
    "Let's summarize all of these scores in a tabular format for us to compare using `tabulate`"
   ]
  },
  {
   "cell_type": "code",
   "execution_count": 40,
   "id": "67f41b41",
   "metadata": {},
   "outputs": [
    {
     "name": "stdout",
     "output_type": "stream",
     "text": [
      "Model                        Accuracy    Precision    Recall    F1 Score\n",
      "-------------------------  ----------  -----------  --------  ----------\n",
      "Logistic Regression (LR)     0.807634     0.741667  0.483696    0.793504\n",
      "K Nearest Neighbour (KNN)    0.829008     0.814159  0.502732    0.814691\n",
      "Decision Trees (DT)          0.822901     0.737589  0.568306    0.815194\n"
     ]
    }
   ],
   "source": [
    "print(tabulate([['Logistic Regression (LR)', LR_Acc, LR_Prec, LR_Recal, LR_F1],\n",
    "                ['K Nearest Neighbour (KNN)', KNN_Acc, KNN_Prec, KNN_Recal, KNN_F1],\n",
    "                ['Decision Trees (DT)', DT_Acc, DT_Prec, DT_Recal, DT_F1]],\n",
    "                headers = ['Model', 'Accuracy', 'Precision', 'Recall', 'F1 Score']))"
   ]
  },
  {
   "cell_type": "markdown",
   "id": "d9679f71",
   "metadata": {},
   "source": [
    "Reviewing the information above we can identify that KNN & DT are stronger models to use when compared to LR. Now, between KNN & DT we can see that the Accuracy & F1 Score is similar. The only differences ultimately are between the precision and recall of the two models. \n",
    "\n",
    "**In layman’s terms do we want a model that is good at identifying all days that it will rain tomorrow (high recall) or a model that is good at predicting which day it'll rain tomorrow (high precision). **\n",
    "\n",
    "In our case missing out on identifying some rainy days tomorrow is okay (low recall) but knowing when it’s going to rain tomorrow (high precision) would be more important to us. This is especially crucial if we're planning when to hold a cricket match and we need to predict a day, with a high chance of accuracy, if there will be rain or not. Our best bet would be to use the **K Nearest Neighbour model** to predict this as this has a higher level of precision"
   ]
  }
 ],
 "metadata": {
  "kernelspec": {
   "display_name": "Python 3 (ipykernel)",
   "language": "python",
   "name": "python3"
  },
  "language_info": {
   "codemirror_mode": {
    "name": "ipython",
    "version": 3
   },
   "file_extension": ".py",
   "mimetype": "text/x-python",
   "name": "python",
   "nbconvert_exporter": "python",
   "pygments_lexer": "ipython3",
   "version": "3.9.12"
  }
 },
 "nbformat": 4,
 "nbformat_minor": 5
}
