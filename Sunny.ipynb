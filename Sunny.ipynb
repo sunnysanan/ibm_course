{
 "cells": [
  {
   "cell_type": "markdown",
   "id": "4064435c",
   "metadata": {},
   "source": [
    "<h1><center>My Jupyter Notebook on IBM Watson Studio<center><h1>"
   ]
  },
  {
   "cell_type": "markdown",
   "id": "97246d26",
   "metadata": {},
   "source": [
    "**Sunny S**"
   ]
  },
  {
   "cell_type": "markdown",
   "id": "9a432401",
   "metadata": {},
   "source": [
    "Data Analyst"
   ]
  },
  {
   "cell_type": "markdown",
   "id": "3ea531e8",
   "metadata": {},
   "source": [
    "*I am interested in data science as I love exploring different types of data. I also enjoy being able to use different types of modelling techniques to help explore the data further* "
   ]
  },
  {
   "cell_type": "markdown",
   "id": "5fd5f57f",
   "metadata": {},
   "source": [
    "<h3>The code below produces the discriminant value for the quadratic equation.It also informs you how many real solutions (if any) exist in that quadratic equation.<h3>"
   ]
  },
  {
   "cell_type": "code",
   "execution_count": 6,
   "id": "ff43db69",
   "metadata": {},
   "outputs": [
    {
     "name": "stdout",
     "output_type": "stream",
     "text": [
      "A Value is: 4\n",
      "B Value is: -3\n",
      "C Value is: 12\n",
      "0 Real Solutions. Discriminant value is: -183.0\n"
     ]
    }
   ],
   "source": [
    "def discriminant():\n",
    "    a_value = float(input('A Value is: '))\n",
    "    b_value = float(input('B Value is: '))\n",
    "    c_value = float(input('C Value is: '))\n",
    "    discriminant = (b_value**2) - (4*a_value*c_value)\n",
    "    if discriminant > 0:\n",
    "        print('2 Real Solutions. Discriminant value is:', discriminant)\n",
    "    elif discriminant == 0:\n",
    "        print('1 Real Solution. Discriminant value is:', discriminant)\n",
    "    elif discriminant < 0:\n",
    "        print('0 Real Solutions. Discriminant value is:', discriminant)\n",
    "        \n",
    "discriminant()"
   ]
  },
  {
   "cell_type": "markdown",
   "id": "034f62b6",
   "metadata": {},
   "source": [
    "~~F1 is not a real sport~~"
   ]
  },
  {
   "cell_type": "markdown",
   "id": "40d67764",
   "metadata": {},
   "source": [
    "[F1 Homepage](https://www.formula1.com/)"
   ]
  },
  {
   "cell_type": "markdown",
   "id": "0b0e7d1e",
   "metadata": {},
   "source": [
    "![Image of F1 Car](https://s3-eu-west-1.amazonaws.com/racingnews-v2-prod/2022/Verstappen/SI202203200202_hires_jpeg_24bit_rgb.jpg?v=1647794634)"
   ]
  },
  {
   "cell_type": "code",
   "execution_count": null,
   "id": "1f6f163a",
   "metadata": {},
   "outputs": [],
   "source": []
  }
 ],
 "metadata": {
  "kernelspec": {
   "display_name": "Python 3 (ipykernel)",
   "language": "python",
   "name": "python3"
  },
  "language_info": {
   "codemirror_mode": {
    "name": "ipython",
    "version": 3
   },
   "file_extension": ".py",
   "mimetype": "text/x-python",
   "name": "python",
   "nbconvert_exporter": "python",
   "pygments_lexer": "ipython3",
   "version": "3.9.12"
  }
 },
 "nbformat": 4,
 "nbformat_minor": 5
}
